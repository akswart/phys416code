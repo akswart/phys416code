{
 "cells": [
  {
   "cell_type": "markdown",
   "metadata": {},
   "source": [
    "For my Phys416 final project, I decided to see how far I could get in developing a model that simulates the response of a barchan dune to wind. \n",
    "\n",
    "For more information on my original project, see the project proposal [Link to Proposal](https://github.com/akswart/phys416code/blob/master/project/done/A_Swart_Proposal.pdf)."
   ]
  },
  {
   "cell_type": "markdown",
   "metadata": {},
   "source": [
    "INSERT FENICS METHODS"
   ]
  },
  {
   "cell_type": "markdown",
   "metadata": {},
   "source": [
    "INSERT NUMERICAL METHODS"
   ]
  },
  {
   "cell_type": "markdown",
   "metadata": {},
   "source": [
    "In order to have the fenics Poisson example fit my use-case, I needed to make significant modifi"
   ]
  }
 ],
 "metadata": {
  "kernelspec": {
   "display_name": "Python 3",
   "language": "python",
   "name": "python3"
  },
  "language_info": {
   "codemirror_mode": {
    "name": "ipython",
    "version": 3
   },
   "file_extension": ".py",
   "mimetype": "text/x-python",
   "name": "python",
   "nbconvert_exporter": "python",
   "pygments_lexer": "ipython3",
   "version": "3.8.2"
  }
 },
 "nbformat": 4,
 "nbformat_minor": 4
}
